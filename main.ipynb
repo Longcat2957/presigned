{
 "cells": [
  {
   "cell_type": "code",
   "execution_count": 46,
   "metadata": {},
   "outputs": [],
   "source": [
    "import os\n",
    "import requests\n",
    "import boto3\n",
    "\n",
    "from botocore.exceptions import ClientError\n",
    "import json\n",
    "\n",
    "def parsing_json(json_path:str) -> dict:\n",
    "    with open(json_path, \"r\") as f:\n",
    "        return json.load(f)\n",
    "    \n",
    "config = parsing_json(\"config.json\")"
   ]
  },
  {
   "cell_type": "code",
   "execution_count": 47,
   "metadata": {},
   "outputs": [
    {
     "name": "stdout",
     "output_type": "stream",
     "text": [
      "True\n"
     ]
    }
   ],
   "source": [
    "class S3Base:\n",
    "    def __init__(self, config:dict):\n",
    "        self.s3 = boto3.client(\n",
    "            's3',\n",
    "            endpoint_url=f\"https://{config['Hostname']}\",\n",
    "            aws_access_key_id=config['Access'],\n",
    "            aws_secret_access_key=config['Secret'],\n",
    "        )\n",
    "        \n",
    "        self.bucket_name = config['Bucket']\n",
    "        \n",
    "    def _check_client(self):\n",
    "        try:\n",
    "            response = self.s3.head_bucket(Bucket=self.bucket_name)\n",
    "            return True\n",
    "        except ClientError as e:\n",
    "            error_code = e.response['Error']['Code']\n",
    "            if error_code == '404':\n",
    "                print(f\"Bucket '{self.bucket_name}' does not exist.\")\n",
    "            elif error_code == '403':\n",
    "                print(f\"Access denied to bucket '{self.bucket_name}'.\")\n",
    "            else:\n",
    "                print(f\"Error occurred while checking the bucket: {e}\")\n",
    "            return False\n",
    "        \n",
    "        \n",
    "_base = S3Base(config)\n",
    "print(_base._check_client())"
   ]
  },
  {
   "cell_type": "code",
   "execution_count": 48,
   "metadata": {},
   "outputs": [
    {
     "name": "stdout",
     "output_type": "stream",
     "text": [
      "True\n"
     ]
    }
   ],
   "source": [
    "class s3Handler(S3Base):\n",
    "    def __init__(self, config:dict):\n",
    "        super().__init__(config)\n",
    "        self.root_dir = 'dev0'\n",
    "\n",
    "        \n",
    "    def _check_root_dir(self):\n",
    "        try:\n",
    "            response = self.s3.list_objects_v2(\n",
    "                Bucket=self.bucket_name,\n",
    "                Prefix=f\"{self.root_dir}/\"\n",
    "            )\n",
    "            if response.get('KeyCount') == 0:\n",
    "                return False\n",
    "            return True\n",
    "        except ClientError as e:\n",
    "            print(f\"Error occurred while checking the root directory: {e}\")\n",
    "            return False\n",
    "        \n",
    "    def generate_upload_url(self, file_name, expiration=3600):\n",
    "        # 업로드를 위한 Presigned URL 생성\n",
    "        try:\n",
    "            presigned_url = self.s3.generate_presigned_url(\n",
    "                'put_object',\n",
    "                Params={\n",
    "                    'Bucket': self.bucket_name,\n",
    "                    'Key': f\"{self.root_dir}/{file_name}\"\n",
    "                },\n",
    "                ExpiresIn=expiration\n",
    "            )\n",
    "            return presigned_url\n",
    "        except ClientError as e:\n",
    "            print(f\"Error occurred while generating upload URL: {e}\")\n",
    "            return None\n",
    "   \n",
    "    def generate_download_url(self, file_name, expiration=3600):\n",
    "        # 다운로드를 위한 Presigned URL 생성\n",
    "        try:\n",
    "            presigned_url = self.s3.generate_presigned_url(\n",
    "                'get_object',\n",
    "                Params={\n",
    "                    'Bucket': self.bucket_name,\n",
    "                    'Key': f\"{self.root_dir}/{file_name}\"\n",
    "                },\n",
    "                ExpiresIn=expiration\n",
    "            )\n",
    "            return presigned_url\n",
    "        except ClientError as e:\n",
    "            print(f\"Error occurred while generating download URL: {e}\")\n",
    "            return None\n",
    "        \n",
    "        \n",
    "handler = s3Handler(config)\n",
    "print(handler._check_root_dir())"
   ]
  },
  {
   "cell_type": "code",
   "execution_count": 49,
   "metadata": {},
   "outputs": [
    {
     "name": "stdout",
     "output_type": "stream",
     "text": [
      "File './upload/test.txt' uploaded successfully.\n"
     ]
    }
   ],
   "source": [
    "class FileHandler:\n",
    "    def __init__(self, handler: s3Handler):\n",
    "        self.handler = handler\n",
    "        self.upload_files_dir = \"./upload\"\n",
    "        self.download_files_dir = \"./download\"\n",
    "        \n",
    "    def single_file_upload(self, abs_file_path: str):\n",
    "        # abs_file_path : absolute file path\n",
    "        # (1) check file exists\n",
    "        if not os.path.exists(abs_file_path):\n",
    "            print(f\"File '{abs_file_path}' does not exist.\")\n",
    "            return None\n",
    "\n",
    "        # (2) generate upload URL\n",
    "        file_name = os.path.basename(abs_file_path)  # 파일 이름 추출\n",
    "        upload_url = self.handler.generate_upload_url(file_name)\n",
    "        if upload_url is None:\n",
    "            print(f\"Failed to generate upload URL for '{abs_file_path}'.\")\n",
    "            return None\n",
    "\n",
    "        # (3) upload file\n",
    "        try:\n",
    "            with open(abs_file_path, 'rb') as f:\n",
    "                file_data = f.read()\n",
    "                headers = {'Content-Length': str(len(file_data))}\n",
    "                response = requests.put(upload_url, data=file_data, headers=headers)\n",
    "                if response.status_code == 200:\n",
    "                    print(f\"File '{abs_file_path}' uploaded successfully.\")\n",
    "                else:\n",
    "                    print(f\"Failed to upload file '{abs_file_path}'. response code: {response.status_code}\")\n",
    "        except Exception as e:\n",
    "            print(f\"Error occurred while uploading file '{abs_file_path}': {e}\")\n",
    "            return None\n",
    "        \n",
    "    def single_file_download(self, file_name: str):\n",
    "        download_url = self.handler.generate_download_url(file_name)\n",
    "        if download_url is None:\n",
    "            print(f\"Failed to generate download URL for '{file_name}'.\")\n",
    "            return None\n",
    "        \n",
    "        response = requests.get(download_url)\n",
    "        if response.status_code == 200:\n",
    "            download_file_path = os.path.join(self.download_files_dir, file_name)\n",
    "            try:\n",
    "                with open(download_file_path, 'wb') as file:\n",
    "                    file.write(response.content)\n",
    "                print(f\"File '{file_name}' downloaded successfully.\")\n",
    "            except IOError as e:\n",
    "                print(f\"Error occurred while writing the file: {e}\")\n",
    "        else:\n",
    "            print(f\"Failed to download file '{file_name}'. Status code: {response.status_code}\")\n",
    "            \n",
    "# pre test\n",
    "file_handler = FileHandler(handler)\n",
    "file_handler.single_file_upload(\"./upload/test.txt\")"
   ]
  },
  {
   "cell_type": "code",
   "execution_count": null,
   "metadata": {},
   "outputs": [],
   "source": [
    "file_handler.single_file_download(\"test.txt\")"
   ]
  }
 ],
 "metadata": {
  "kernelspec": {
   "display_name": "fastapi1",
   "language": "python",
   "name": "python3"
  },
  "language_info": {
   "codemirror_mode": {
    "name": "ipython",
    "version": 3
   },
   "file_extension": ".py",
   "mimetype": "text/x-python",
   "name": "python",
   "nbconvert_exporter": "python",
   "pygments_lexer": "ipython3",
   "version": "3.11.8"
  }
 },
 "nbformat": 4,
 "nbformat_minor": 2
}
